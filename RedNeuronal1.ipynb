{
  "nbformat": 4,
  "nbformat_minor": 0,
  "metadata": {
    "colab": {
      "name": "RedNeuronal1.ipynb",
      "provenance": [],
      "collapsed_sections": [],
      "authorship_tag": "ABX9TyOna5L6B6cRG97HXDPdE4p9",
      "include_colab_link": true
    },
    "kernelspec": {
      "name": "python3",
      "display_name": "Python 3"
    },
    "language_info": {
      "name": "python"
    }
  },
  "cells": [
    {
      "cell_type": "markdown",
      "metadata": {
        "id": "view-in-github",
        "colab_type": "text"
      },
      "source": [
        "<a href=\"https://colab.research.google.com/github/Cristopher1998/UTPfiles/blob/master/RedNeuronal1.ipynb\" target=\"_parent\"><img src=\"https://colab.research.google.com/assets/colab-badge.svg\" alt=\"Open In Colab\"/></a>"
      ]
    },
    {
      "cell_type": "markdown",
      "source": [
        ""
      ],
      "metadata": {
        "id": "htD1QYez0Sbq"
      }
    },
    {
      "cell_type": "code",
      "execution_count": 1,
      "metadata": {
        "id": "CtfgYILKwc3p"
      },
      "outputs": [],
      "source": [
        "import tensorflow as tf\n",
        "import numpy as np"
      ]
    },
    {
      "cell_type": "code",
      "source": [
        "celsius= np.array([-40,-10,0,8,15,22,38],dtype=float)\n",
        "fahrenheit= np.array([-40,14,32,46,59,72,100],dtype=float)"
      ],
      "metadata": {
        "id": "xpCMZTjYxB_F"
      },
      "execution_count": 2,
      "outputs": []
    },
    {
      "cell_type": "code",
      "source": [
        "capa=tf.keras.layers.Dense(units=1,input_shape=[1])\n",
        "modelo=tf.keras.Sequential([capa])"
      ],
      "metadata": {
        "id": "H1c8087bxgTL"
      },
      "execution_count": 3,
      "outputs": []
    },
    {
      "cell_type": "code",
      "source": [
        "modelo.compile(\n",
        "    optimizer=tf.keras.optimizers.Adam(0.1),\n",
        "    loss='mean_squared_error'\n",
        ")"
      ],
      "metadata": {
        "id": "vKoXjM4bxu9u"
      },
      "execution_count": 6,
      "outputs": []
    },
    {
      "cell_type": "markdown",
      "source": [
        ""
      ],
      "metadata": {
        "id": "7s8BmcPbyvfb"
      }
    },
    {
      "cell_type": "code",
      "source": [
        "print(\"COMENZANDO ENTRENAMIENTO...\")\n",
        "historial= modelo.fit(celsius,fahrenheit,epochs=1000,verbose=False)\n",
        "print(\"MODELO ENTRENADO\")"
      ],
      "metadata": {
        "colab": {
          "base_uri": "https://localhost:8080/"
        },
        "id": "Vuty_lIGyeQX",
        "outputId": "fd31e156-e05a-4d29-fd08-d063aa5d4831"
      },
      "execution_count": 7,
      "outputs": [
        {
          "output_type": "stream",
          "name": "stdout",
          "text": [
            "COMENZANDO ENTRENAMIENTO...\n",
            "MODELO ENTRENADO\n"
          ]
        }
      ]
    },
    {
      "cell_type": "code",
      "source": [
        "import matplotlib.pyplot as plt\n",
        "plt.xlabel(\"# Vuelta\")\n",
        "plt.ylabel(\"Magnitud de pérdida\")\n",
        "plt.plot(historial.history[\"loss\"])"
      ],
      "metadata": {
        "colab": {
          "base_uri": "https://localhost:8080/",
          "height": 298
        },
        "id": "OfmDeiV9y1sH",
        "outputId": "2da06ba3-b9da-409e-bee4-25dc389b3613"
      },
      "execution_count": 12,
      "outputs": [
        {
          "output_type": "execute_result",
          "data": {
            "text/plain": [
              "[<matplotlib.lines.Line2D at 0x7fa559ae52d0>]"
            ]
          },
          "metadata": {},
          "execution_count": 12
        },
        {
          "output_type": "display_data",
          "data": {
            "text/plain": [
              "<Figure size 432x288 with 1 Axes>"
            ],
            "image/png": "[encoded data removed]"
          },
          "metadata": {
            "needs_background": "light"
          }
        }
      ]
    },
    {
      "cell_type": "code",
      "source": [
        "print(\"HAGAMOS UNA PREDICCION\")\n",
        "resultado=modelo.predict([50])\n",
        "print(\"EL RESULTADO ES\" +str(resultado)+\" fahrenheit\")\n"
      ],
      "metadata": {
        "colab": {
          "base_uri": "https://localhost:8080/"
        },
        "id": "cuE8WgxPzAVd",
        "outputId": "567cfde9-88ad-40d4-fb0d-6abd64d51d8d"
      },
      "execution_count": 9,
      "outputs": [
        {
          "output_type": "stream",
          "name": "stdout",
          "text": [
            "HAGAMOS UNA PREDICCION\n",
            "EL RESULTADO ES[[121.83121]] fahrenheit\n"
          ]
        }
      ]
    },
    {
      "cell_type": "code",
      "source": [
        "print(\"VARIABLES INTERNAS DEL MODELO\")\n",
        "print(capa.get_weights())"
      ],
      "metadata": {
        "colab": {
          "base_uri": "https://localhost:8080/"
        },
        "id": "No4zptPEz4IT",
        "outputId": "c8a7b100-3459-4812-af4b-6940afd95492"
      },
      "execution_count": 11,
      "outputs": [
        {
          "output_type": "stream",
          "name": "stdout",
          "text": [
            "VARIABLES INTERNAS DEL MODELO\n",
            "[array([[1.7982302]], dtype=float32), array([31.919704], dtype=float32)]\n"
          ]
        }
      ]
    }
  ]
}